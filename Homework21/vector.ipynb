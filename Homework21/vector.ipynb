{
 "cells": [
  {
   "cell_type": "code",
   "execution_count": null,
   "metadata": {
    "collapsed": true
   },
   "outputs": [],
   "source": [
    "import math\n",
    "import numpy as np\n",
    "from pprint import pprint\n",
    "from scipy.spatial.distance import cosine"
   ]
  },
  {
   "cell_type": "markdown",
   "metadata": {},
   "source": [
    "Original Documents TF-IDF Vectors"
   ]
  },
  {
   "cell_type": "code",
   "execution_count": null,
   "metadata": {
    "collapsed": true
   },
   "outputs": [],
   "source": [
    "d1 = np.array([0.17, 0.21, 0.35, 0.44, 0.49, 0.39, 0.09, 0.07, 0.37, 0.24])\n",
    "d2 = np.array([0.49, 0.48, 0.44, 0.09, 0.24, 0.2, 0.41, 0.16, 0.1, 0.15])\n",
    "d3 = np.array([0.41, 0.36, 0.27, 0.19, 0.15, 0.42, 0.23, 0.42, 0.02, 0.42])\n",
    "d4 = np.array([0.31, 0.41, 0.21, 0.19, 0.47, 0.28, 0.21, 0.39, 0.16, 0.38])\n",
    "d5 = np.array([0.46, 0.12, 0.21, 0.25, 0.38, 0.38, 0.46, 0.23, 0.31, 0.14])\n",
    "d6 = np.array([0.13, 0.33, 0.28, 0.42, 0.07, 0.13, 0.58, 0.15, 0.0, 0.49])\n",
    "d7 = np.array([0.21, 0.09, 0.07, 0.09, 0.3, 0.54, 0.24, 0.43, 0.51, 0.21])\n",
    "d8 = np.array([0.18, 0.39, 0.42, 0.05, 0.41, 0.1, 0.52, 0.12, 0.14, 0.38])\n",
    "d9 = np.array([0.4, 0.51, 0.01, 0.1, 0.12, 0.22, 0.26, 0.34, 0.42, 0.38])\n",
    "\n",
    "docs = np.array([d1,d2,d3,d4,d5,d6,d7,d8,d9])"
   ]
  },
  {
   "cell_type": "markdown",
   "metadata": {},
   "source": [
    "Random Projection Vector"
   ]
  },
  {
   "cell_type": "code",
   "execution_count": null,
   "metadata": {
    "collapsed": true
   },
   "outputs": [],
   "source": [
    "r1 = np.array([0.33, 0.33, 0.42, 0.12, 0.2, 0.34, 0.58, 0.19, 0.07, 0.24])\n",
    "r2 = np.array([0.29, 0.16, 0.38, 0.48, 0.43, 0.11, 0.12, 0.33, 0.03, 0.44])\n",
    "r3 = np.array([0.01, 0.17, 0.11, 0.27, 0.23, 0.37, 0.35, 0.48, 0.54, 0.24])\n",
    "r4 = np.array([0.09, 0.05, 0.39, 0.25, 0.45, 0.48, 0.04, 0.45, 0.35, 0.12])\n",
    "r5 = np.array([0.13, 0.17, 0.4, 0.4, 0.07, 0.4, 0.35, 0.39, 0.44, 0.06])\n",
    "\n",
    "rand_vec = np.array([r1,r2,r3,r4,r5])"
   ]
  },
  {
   "cell_type": "markdown",
   "metadata": {},
   "source": [
    "Original TF-IDF Vectors hashed with Random Projection Vector"
   ]
  },
  {
   "cell_type": "code",
   "execution_count": null,
   "metadata": {
    "collapsed": false
   },
   "outputs": [],
   "source": [
    "hash_vec = np.empty(shape=(9,5))\n",
    "for d in range(len(docs)):\n",
    "    temp_array = np.array([])\n",
    "    for r in range(len(rand_vec)):\n",
    "        val = 1 if docs[d].dot(rand_vec[r]).sum() > 0.75 else 0\n",
    "        temp_array = np.insert(temp_array,r, val)\n",
    "    hash_vec[d] = temp_array\n",
    "pprint(hash_vec)\n",
    "        "
   ]
  },
  {
   "cell_type": "markdown",
   "metadata": {},
   "source": [
    "Pre-Clustering of the Cosine Comparisons"
   ]
  },
  {
   "cell_type": "code",
   "execution_count": null,
   "metadata": {
    "collapsed": true
   },
   "outputs": [],
   "source": [
    "# Leader Vectors for Clustering\n",
    "l1 = np.array([0,0,1,1,0])\n",
    "l2 = np.array([0,1,1,1,0])\n",
    "l3 = np.array([0,0,0,0,0])\n",
    "leaders = np.array([l1,l2,l3])"
   ]
  },
  {
   "cell_type": "markdown",
   "metadata": {},
   "source": [
    "    - For every Row in Hash_Vec compute the distance to every row in leaders and keep the smallest value"
   ]
  },
  {
   "cell_type": "code",
   "execution_count": null,
   "metadata": {
    "collapsed": false
   },
   "outputs": [],
   "source": [
    "clusters = {}\n",
    "for v in range(len(hash_vec)):\n",
    "    temp_dist = 0\n",
    "    temp_clust = 0\n",
    "    for l in range(len(leaders)):\n",
    "        dist = 1 - cosine(hash_vec[v], leaders[l])\n",
    "        dist = dist if not(math.isnan(dist)) else 0\n",
    "        if dist > temp_dist:\n",
    "            temp_clust = l\n",
    "            temp_dist = dist\n",
    "    print('Vector %s Cluster %s with distance: %f' % (v + 1, temp_clust + 1, temp_dist))\n",
    "    clusters[v] = temp_clust"
   ]
  },
  {
   "cell_type": "code",
   "execution_count": null,
   "metadata": {
    "collapsed": false
   },
   "outputs": [],
   "source": [
    "q = [0.15, 0.39, 0.36, 0.25, 0.36, 0.15, 0.52, 0.37, 0.08, 0.27]"
   ]
  }
 ],
 "metadata": {
  "kernelspec": {
   "display_name": "Python 3",
   "language": "python",
   "name": "python3"
  },
  "language_info": {
   "codemirror_mode": {
    "name": "ipython",
    "version": 3
   },
   "file_extension": ".py",
   "mimetype": "text/x-python",
   "name": "python",
   "nbconvert_exporter": "python",
   "pygments_lexer": "ipython3",
   "version": "3.6.0"
  }
 },
 "nbformat": 4,
 "nbformat_minor": 2
}
